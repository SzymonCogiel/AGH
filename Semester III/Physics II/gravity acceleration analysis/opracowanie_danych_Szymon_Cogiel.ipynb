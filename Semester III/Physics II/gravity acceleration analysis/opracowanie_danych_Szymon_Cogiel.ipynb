{
 "cells": [
  {
   "cell_type": "markdown",
   "id": "5164ec1c",
   "metadata": {},
   "source": [
    "# Opracowanie danych pomiarowych Szymon Cogiel "
   ]
  },
  {
   "cell_type": "code",
   "execution_count": 2,
   "id": "97335be4",
   "metadata": {},
   "outputs": [],
   "source": [
    "import pandas as pd\n",
    "import numpy as np\n",
    "import math\n",
    "import matplotlib.pyplot as plt\n",
    "from sklearn.linear_model import LinearRegression\n",
    "%matplotlib inline"
   ]
  },
  {
   "cell_type": "code",
   "execution_count": 3,
   "id": "939116f9",
   "metadata": {},
   "outputs": [],
   "source": [
    "# wczytywanie danych\n",
    "tab1 = pd.read_csv('tabela1.csv')\n",
    "tab2 = pd.read_csv('fiza_lab_cw00.csv')"
   ]
  },
  {
   "cell_type": "markdown",
   "id": "fef3ecaa",
   "metadata": {},
   "source": [
    "# Przeglad danych"
   ]
  },
  {
   "cell_type": "code",
   "execution_count": 4,
   "id": "69d7dcc9",
   "metadata": {},
   "outputs": [
    {
     "data": {
      "text/html": [
       "<div>\n",
       "<style scoped>\n",
       "    .dataframe tbody tr th:only-of-type {\n",
       "        vertical-align: middle;\n",
       "    }\n",
       "\n",
       "    .dataframe tbody tr th {\n",
       "        vertical-align: top;\n",
       "    }\n",
       "\n",
       "    .dataframe thead th {\n",
       "        text-align: right;\n",
       "    }\n",
       "</style>\n",
       "<table border=\"1\" class=\"dataframe\">\n",
       "  <thead>\n",
       "    <tr style=\"text-align: right;\">\n",
       "      <th></th>\n",
       "      <th>k</th>\n",
       "      <th>t[s]</th>\n",
       "      <th>T[s]</th>\n",
       "    </tr>\n",
       "  </thead>\n",
       "  <tbody>\n",
       "    <tr>\n",
       "      <th>0</th>\n",
       "      <td>20</td>\n",
       "      <td>29.47</td>\n",
       "      <td>1.4735</td>\n",
       "    </tr>\n",
       "    <tr>\n",
       "      <th>1</th>\n",
       "      <td>20</td>\n",
       "      <td>29.12</td>\n",
       "      <td>1.4560</td>\n",
       "    </tr>\n",
       "    <tr>\n",
       "      <th>2</th>\n",
       "      <td>20</td>\n",
       "      <td>29.19</td>\n",
       "      <td>1.4595</td>\n",
       "    </tr>\n",
       "    <tr>\n",
       "      <th>3</th>\n",
       "      <td>20</td>\n",
       "      <td>28.91</td>\n",
       "      <td>1.4455</td>\n",
       "    </tr>\n",
       "    <tr>\n",
       "      <th>4</th>\n",
       "      <td>20</td>\n",
       "      <td>29.12</td>\n",
       "      <td>1.4560</td>\n",
       "    </tr>\n",
       "    <tr>\n",
       "      <th>5</th>\n",
       "      <td>20</td>\n",
       "      <td>29.03</td>\n",
       "      <td>1.4515</td>\n",
       "    </tr>\n",
       "    <tr>\n",
       "      <th>6</th>\n",
       "      <td>20</td>\n",
       "      <td>29.09</td>\n",
       "      <td>1.4545</td>\n",
       "    </tr>\n",
       "    <tr>\n",
       "      <th>7</th>\n",
       "      <td>20</td>\n",
       "      <td>29.12</td>\n",
       "      <td>1.4560</td>\n",
       "    </tr>\n",
       "    <tr>\n",
       "      <th>8</th>\n",
       "      <td>20</td>\n",
       "      <td>29.13</td>\n",
       "      <td>1.4565</td>\n",
       "    </tr>\n",
       "    <tr>\n",
       "      <th>9</th>\n",
       "      <td>20</td>\n",
       "      <td>29.19</td>\n",
       "      <td>1.4595</td>\n",
       "    </tr>\n",
       "  </tbody>\n",
       "</table>\n",
       "</div>"
      ],
      "text/plain": [
       "    k   t[s]    T[s]\n",
       "0  20  29.47  1.4735\n",
       "1  20  29.12  1.4560\n",
       "2  20  29.19  1.4595\n",
       "3  20  28.91  1.4455\n",
       "4  20  29.12  1.4560\n",
       "5  20  29.03  1.4515\n",
       "6  20  29.09  1.4545\n",
       "7  20  29.12  1.4560\n",
       "8  20  29.13  1.4565\n",
       "9  20  29.19  1.4595"
      ]
     },
     "execution_count": 4,
     "metadata": {},
     "output_type": "execute_result"
    }
   ],
   "source": [
    "tab1"
   ]
  },
  {
   "cell_type": "code",
   "execution_count": 5,
   "id": "5d67d70c",
   "metadata": {},
   "outputs": [
    {
     "data": {
      "text/html": [
       "<div>\n",
       "<style scoped>\n",
       "    .dataframe tbody tr th:only-of-type {\n",
       "        vertical-align: middle;\n",
       "    }\n",
       "\n",
       "    .dataframe tbody tr th {\n",
       "        vertical-align: top;\n",
       "    }\n",
       "\n",
       "    .dataframe thead th {\n",
       "        text-align: right;\n",
       "    }\n",
       "</style>\n",
       "<table border=\"1\" class=\"dataframe\">\n",
       "  <thead>\n",
       "    <tr style=\"text-align: right;\">\n",
       "      <th></th>\n",
       "      <th>l[mm]</th>\n",
       "      <th>k</th>\n",
       "      <th>t[s]</th>\n",
       "      <th>T[s]</th>\n",
       "      <th>T^2 [s^2]</th>\n",
       "      <th>g[m/s^2]</th>\n",
       "    </tr>\n",
       "  </thead>\n",
       "  <tbody>\n",
       "    <tr>\n",
       "      <th>0</th>\n",
       "      <td>93</td>\n",
       "      <td>20</td>\n",
       "      <td>12.59</td>\n",
       "      <td>0.6295</td>\n",
       "      <td>0.396270</td>\n",
       "      <td>9.265124</td>\n",
       "    </tr>\n",
       "    <tr>\n",
       "      <th>1</th>\n",
       "      <td>145</td>\n",
       "      <td>20</td>\n",
       "      <td>15.79</td>\n",
       "      <td>0.7895</td>\n",
       "      <td>0.623310</td>\n",
       "      <td>9.183822</td>\n",
       "    </tr>\n",
       "    <tr>\n",
       "      <th>2</th>\n",
       "      <td>195</td>\n",
       "      <td>20</td>\n",
       "      <td>17.97</td>\n",
       "      <td>0.8985</td>\n",
       "      <td>0.807302</td>\n",
       "      <td>9.535823</td>\n",
       "    </tr>\n",
       "    <tr>\n",
       "      <th>3</th>\n",
       "      <td>235</td>\n",
       "      <td>20</td>\n",
       "      <td>19.66</td>\n",
       "      <td>0.9830</td>\n",
       "      <td>0.966289</td>\n",
       "      <td>9.601090</td>\n",
       "    </tr>\n",
       "    <tr>\n",
       "      <th>4</th>\n",
       "      <td>285</td>\n",
       "      <td>20</td>\n",
       "      <td>21.31</td>\n",
       "      <td>1.0655</td>\n",
       "      <td>1.135290</td>\n",
       "      <td>9.910548</td>\n",
       "    </tr>\n",
       "    <tr>\n",
       "      <th>5</th>\n",
       "      <td>340</td>\n",
       "      <td>20</td>\n",
       "      <td>23.50</td>\n",
       "      <td>1.1750</td>\n",
       "      <td>1.380625</td>\n",
       "      <td>9.722164</td>\n",
       "    </tr>\n",
       "    <tr>\n",
       "      <th>6</th>\n",
       "      <td>375</td>\n",
       "      <td>20</td>\n",
       "      <td>24.19</td>\n",
       "      <td>1.2095</td>\n",
       "      <td>1.462890</td>\n",
       "      <td>10.119971</td>\n",
       "    </tr>\n",
       "    <tr>\n",
       "      <th>7</th>\n",
       "      <td>410</td>\n",
       "      <td>20</td>\n",
       "      <td>25.94</td>\n",
       "      <td>1.2970</td>\n",
       "      <td>1.682209</td>\n",
       "      <td>9.621962</td>\n",
       "    </tr>\n",
       "    <tr>\n",
       "      <th>8</th>\n",
       "      <td>445</td>\n",
       "      <td>20</td>\n",
       "      <td>26.78</td>\n",
       "      <td>1.3390</td>\n",
       "      <td>1.792921</td>\n",
       "      <td>9.798477</td>\n",
       "    </tr>\n",
       "    <tr>\n",
       "      <th>9</th>\n",
       "      <td>470</td>\n",
       "      <td>20</td>\n",
       "      <td>27.56</td>\n",
       "      <td>1.3780</td>\n",
       "      <td>1.898884</td>\n",
       "      <td>9.771453</td>\n",
       "    </tr>\n",
       "    <tr>\n",
       "      <th>10</th>\n",
       "      <td>490</td>\n",
       "      <td>20</td>\n",
       "      <td>28.19</td>\n",
       "      <td>1.4095</td>\n",
       "      <td>1.986690</td>\n",
       "      <td>9.737011</td>\n",
       "    </tr>\n",
       "    <tr>\n",
       "      <th>11</th>\n",
       "      <td>520</td>\n",
       "      <td>20</td>\n",
       "      <td>28.84</td>\n",
       "      <td>1.4420</td>\n",
       "      <td>2.079364</td>\n",
       "      <td>9.872623</td>\n",
       "    </tr>\n",
       "    <tr>\n",
       "      <th>12</th>\n",
       "      <td>535</td>\n",
       "      <td>20</td>\n",
       "      <td>29.19</td>\n",
       "      <td>1.4595</td>\n",
       "      <td>2.130140</td>\n",
       "      <td>9.915288</td>\n",
       "    </tr>\n",
       "    <tr>\n",
       "      <th>13</th>\n",
       "      <td>550</td>\n",
       "      <td>20</td>\n",
       "      <td>29.56</td>\n",
       "      <td>1.4780</td>\n",
       "      <td>2.184484</td>\n",
       "      <td>9.939706</td>\n",
       "    </tr>\n",
       "    <tr>\n",
       "      <th>14</th>\n",
       "      <td>580</td>\n",
       "      <td>20</td>\n",
       "      <td>30.10</td>\n",
       "      <td>1.5050</td>\n",
       "      <td>2.265025</td>\n",
       "      <td>10.109152</td>\n",
       "    </tr>\n",
       "  </tbody>\n",
       "</table>\n",
       "</div>"
      ],
      "text/plain": [
       "    l[mm]   k   t[s]    T[s]  T^2 [s^2]   g[m/s^2]\n",
       "0      93  20  12.59  0.6295   0.396270   9.265124\n",
       "1     145  20  15.79  0.7895   0.623310   9.183822\n",
       "2     195  20  17.97  0.8985   0.807302   9.535823\n",
       "3     235  20  19.66  0.9830   0.966289   9.601090\n",
       "4     285  20  21.31  1.0655   1.135290   9.910548\n",
       "5     340  20  23.50  1.1750   1.380625   9.722164\n",
       "6     375  20  24.19  1.2095   1.462890  10.119971\n",
       "7     410  20  25.94  1.2970   1.682209   9.621962\n",
       "8     445  20  26.78  1.3390   1.792921   9.798477\n",
       "9     470  20  27.56  1.3780   1.898884   9.771453\n",
       "10    490  20  28.19  1.4095   1.986690   9.737011\n",
       "11    520  20  28.84  1.4420   2.079364   9.872623\n",
       "12    535  20  29.19  1.4595   2.130140   9.915288\n",
       "13    550  20  29.56  1.4780   2.184484   9.939706\n",
       "14    580  20  30.10  1.5050   2.265025  10.109152"
      ]
     },
     "execution_count": 5,
     "metadata": {},
     "output_type": "execute_result"
    }
   ],
   "source": [
    "tab2"
   ]
  },
  {
   "cell_type": "code",
   "execution_count": 6,
   "id": "d8c916b0",
   "metadata": {},
   "outputs": [
    {
     "data": {
      "text/html": [
       "<div>\n",
       "<style scoped>\n",
       "    .dataframe tbody tr th:only-of-type {\n",
       "        vertical-align: middle;\n",
       "    }\n",
       "\n",
       "    .dataframe tbody tr th {\n",
       "        vertical-align: top;\n",
       "    }\n",
       "\n",
       "    .dataframe thead th {\n",
       "        text-align: right;\n",
       "    }\n",
       "</style>\n",
       "<table border=\"1\" class=\"dataframe\">\n",
       "  <thead>\n",
       "    <tr style=\"text-align: right;\">\n",
       "      <th></th>\n",
       "      <th>k</th>\n",
       "      <th>t[s]</th>\n",
       "      <th>T[s]</th>\n",
       "    </tr>\n",
       "  </thead>\n",
       "  <tbody>\n",
       "    <tr>\n",
       "      <th>count</th>\n",
       "      <td>10.0</td>\n",
       "      <td>10.000000</td>\n",
       "      <td>10.000000</td>\n",
       "    </tr>\n",
       "    <tr>\n",
       "      <th>mean</th>\n",
       "      <td>20.0</td>\n",
       "      <td>29.137000</td>\n",
       "      <td>1.456850</td>\n",
       "    </tr>\n",
       "    <tr>\n",
       "      <th>std</th>\n",
       "      <td>0.0</td>\n",
       "      <td>0.142443</td>\n",
       "      <td>0.007122</td>\n",
       "    </tr>\n",
       "    <tr>\n",
       "      <th>min</th>\n",
       "      <td>20.0</td>\n",
       "      <td>28.910000</td>\n",
       "      <td>1.445500</td>\n",
       "    </tr>\n",
       "    <tr>\n",
       "      <th>25%</th>\n",
       "      <td>20.0</td>\n",
       "      <td>29.097500</td>\n",
       "      <td>1.454875</td>\n",
       "    </tr>\n",
       "    <tr>\n",
       "      <th>50%</th>\n",
       "      <td>20.0</td>\n",
       "      <td>29.120000</td>\n",
       "      <td>1.456000</td>\n",
       "    </tr>\n",
       "    <tr>\n",
       "      <th>75%</th>\n",
       "      <td>20.0</td>\n",
       "      <td>29.175000</td>\n",
       "      <td>1.458750</td>\n",
       "    </tr>\n",
       "    <tr>\n",
       "      <th>max</th>\n",
       "      <td>20.0</td>\n",
       "      <td>29.470000</td>\n",
       "      <td>1.473500</td>\n",
       "    </tr>\n",
       "  </tbody>\n",
       "</table>\n",
       "</div>"
      ],
      "text/plain": [
       "          k       t[s]       T[s]\n",
       "count  10.0  10.000000  10.000000\n",
       "mean   20.0  29.137000   1.456850\n",
       "std     0.0   0.142443   0.007122\n",
       "min    20.0  28.910000   1.445500\n",
       "25%    20.0  29.097500   1.454875\n",
       "50%    20.0  29.120000   1.456000\n",
       "75%    20.0  29.175000   1.458750\n",
       "max    20.0  29.470000   1.473500"
      ]
     },
     "execution_count": 6,
     "metadata": {},
     "output_type": "execute_result"
    }
   ],
   "source": [
    "tab1.describe()"
   ]
  },
  {
   "cell_type": "code",
   "execution_count": 7,
   "id": "da905898",
   "metadata": {
    "scrolled": true
   },
   "outputs": [
    {
     "data": {
      "text/html": [
       "<div>\n",
       "<style scoped>\n",
       "    .dataframe tbody tr th:only-of-type {\n",
       "        vertical-align: middle;\n",
       "    }\n",
       "\n",
       "    .dataframe tbody tr th {\n",
       "        vertical-align: top;\n",
       "    }\n",
       "\n",
       "    .dataframe thead th {\n",
       "        text-align: right;\n",
       "    }\n",
       "</style>\n",
       "<table border=\"1\" class=\"dataframe\">\n",
       "  <thead>\n",
       "    <tr style=\"text-align: right;\">\n",
       "      <th></th>\n",
       "      <th>l[mm]</th>\n",
       "      <th>k</th>\n",
       "      <th>t[s]</th>\n",
       "      <th>T[s]</th>\n",
       "      <th>T^2 [s^2]</th>\n",
       "      <th>g[m/s^2]</th>\n",
       "    </tr>\n",
       "  </thead>\n",
       "  <tbody>\n",
       "    <tr>\n",
       "      <th>count</th>\n",
       "      <td>15.000000</td>\n",
       "      <td>15.0</td>\n",
       "      <td>15.000000</td>\n",
       "      <td>15.00000</td>\n",
       "      <td>15.000000</td>\n",
       "      <td>15.000000</td>\n",
       "    </tr>\n",
       "    <tr>\n",
       "      <th>mean</th>\n",
       "      <td>377.866667</td>\n",
       "      <td>20.0</td>\n",
       "      <td>24.078000</td>\n",
       "      <td>1.20390</td>\n",
       "      <td>1.519446</td>\n",
       "      <td>9.740281</td>\n",
       "    </tr>\n",
       "    <tr>\n",
       "      <th>std</th>\n",
       "      <td>156.130836</td>\n",
       "      <td>0.0</td>\n",
       "      <td>5.480007</td>\n",
       "      <td>0.27400</td>\n",
       "      <td>0.609212</td>\n",
       "      <td>0.268917</td>\n",
       "    </tr>\n",
       "    <tr>\n",
       "      <th>min</th>\n",
       "      <td>93.000000</td>\n",
       "      <td>20.0</td>\n",
       "      <td>12.590000</td>\n",
       "      <td>0.62950</td>\n",
       "      <td>0.396270</td>\n",
       "      <td>9.183822</td>\n",
       "    </tr>\n",
       "    <tr>\n",
       "      <th>25%</th>\n",
       "      <td>260.000000</td>\n",
       "      <td>20.0</td>\n",
       "      <td>20.485000</td>\n",
       "      <td>1.02425</td>\n",
       "      <td>1.050790</td>\n",
       "      <td>9.611526</td>\n",
       "    </tr>\n",
       "    <tr>\n",
       "      <th>50%</th>\n",
       "      <td>410.000000</td>\n",
       "      <td>20.0</td>\n",
       "      <td>25.940000</td>\n",
       "      <td>1.29700</td>\n",
       "      <td>1.682209</td>\n",
       "      <td>9.771453</td>\n",
       "    </tr>\n",
       "    <tr>\n",
       "      <th>75%</th>\n",
       "      <td>505.000000</td>\n",
       "      <td>20.0</td>\n",
       "      <td>28.515000</td>\n",
       "      <td>1.42575</td>\n",
       "      <td>2.033027</td>\n",
       "      <td>9.912918</td>\n",
       "    </tr>\n",
       "    <tr>\n",
       "      <th>max</th>\n",
       "      <td>580.000000</td>\n",
       "      <td>20.0</td>\n",
       "      <td>30.100000</td>\n",
       "      <td>1.50500</td>\n",
       "      <td>2.265025</td>\n",
       "      <td>10.119971</td>\n",
       "    </tr>\n",
       "  </tbody>\n",
       "</table>\n",
       "</div>"
      ],
      "text/plain": [
       "            l[mm]     k       t[s]      T[s]  T^2 [s^2]   g[m/s^2]\n",
       "count   15.000000  15.0  15.000000  15.00000  15.000000  15.000000\n",
       "mean   377.866667  20.0  24.078000   1.20390   1.519446   9.740281\n",
       "std    156.130836   0.0   5.480007   0.27400   0.609212   0.268917\n",
       "min     93.000000  20.0  12.590000   0.62950   0.396270   9.183822\n",
       "25%    260.000000  20.0  20.485000   1.02425   1.050790   9.611526\n",
       "50%    410.000000  20.0  25.940000   1.29700   1.682209   9.771453\n",
       "75%    505.000000  20.0  28.515000   1.42575   2.033027   9.912918\n",
       "max    580.000000  20.0  30.100000   1.50500   2.265025  10.119971"
      ]
     },
     "execution_count": 7,
     "metadata": {},
     "output_type": "execute_result"
    }
   ],
   "source": [
    "tab2.describe()"
   ]
  },
  {
   "cell_type": "markdown",
   "id": "619ea324",
   "metadata": {},
   "source": [
    "zamiana mm na metry"
   ]
  },
  {
   "cell_type": "code",
   "execution_count": 8,
   "id": "9f04f9a6",
   "metadata": {},
   "outputs": [
    {
     "data": {
      "text/plain": [
       "0     0.093\n",
       "1     0.145\n",
       "2     0.195\n",
       "3     0.235\n",
       "4     0.285\n",
       "5     0.340\n",
       "6     0.375\n",
       "7     0.410\n",
       "8     0.445\n",
       "9     0.470\n",
       "10    0.490\n",
       "11    0.520\n",
       "12    0.535\n",
       "13    0.550\n",
       "14    0.580\n",
       "Name: l[mm], dtype: float64"
      ]
     },
     "execution_count": 8,
     "metadata": {},
     "output_type": "execute_result"
    }
   ],
   "source": [
    "tab2['l[mm]'] = np.array(tab2['l[mm]']) * 0.001\n",
    "tab2['l[mm]']"
   ]
  },
  {
   "cell_type": "markdown",
   "id": "68552008",
   "metadata": {},
   "source": [
    "# Bledy grube\n",
    "Ocen, czy wyniki pomiaru okresu nie zawieraja bledow grubych."
   ]
  },
  {
   "cell_type": "markdown",
   "id": "8f945b33",
   "metadata": {},
   "source": [
    "**Nie zostaly zauwazone bledy grube wszystkie pomiary mieszcza sie w normie**"
   ]
  },
  {
   "cell_type": "code",
   "execution_count": 9,
   "id": "34def976",
   "metadata": {},
   "outputs": [
    {
     "name": "stdout",
     "output_type": "stream",
     "text": [
      "Dla tabeli nr 1: \n",
      "min[T]:  1.4455\n",
      "max[T]:  1.4735\n",
      "Roznic pomiedzy max i min:  0.028000000000000025\n"
     ]
    }
   ],
   "source": [
    "print(\"Dla tabeli nr 1: \")\n",
    "print(\"min[T]: \", tab1['T[s]'].min())\n",
    "print(\"max[T]: \", tab1['T[s]'].max())\n",
    "print(\"Roznic pomiedzy max i min: \", abs(tab1['T[s]'].min() - tab1['T[s]'].max()))"
   ]
  },
  {
   "cell_type": "markdown",
   "id": "b3343244",
   "metadata": {},
   "source": [
    "# Niepewnosc pomiaru okresu typu A"
   ]
  },
  {
   "cell_type": "code",
   "execution_count": 10,
   "id": "d94943b5",
   "metadata": {
    "scrolled": true
   },
   "outputs": [
    {
     "name": "stdout",
     "output_type": "stream",
     "text": [
      "Niepewnosc pomiaru okresu typu A wynosi:  0.0006756663377733121\n"
     ]
    }
   ],
   "source": [
    "print(\"Niepewnosc pomiaru okresu typu A wynosi: \", typA(tab1))\n",
    "T_o = typA(tab1)"
   ]
  },
  {
   "cell_type": "markdown",
   "id": "204225a5",
   "metadata": {},
   "source": [
    "$$ typA = \\sqrt{\\frac{ \\sum(x- \\overline{x} )}{n(n - 1)}}$$"
   ]
  },
  {
   "cell_type": "markdown",
   "id": "68b72ae9",
   "metadata": {},
   "source": [
    "# Niepewnosc pomiaru wachadla typu B"
   ]
  },
  {
   "cell_type": "code",
   "execution_count": 11,
   "id": "d84e5021",
   "metadata": {},
   "outputs": [
    {
     "name": "stdout",
     "output_type": "stream",
     "text": [
      "Niepewnosc pomiaru dlugosci wachadla typu B wynosi:  0.0005773502691896258\n"
     ]
    }
   ],
   "source": [
    "delta_l = 0.001 # jednostka m\n",
    "print(\"Niepewnosc pomiaru dlugosci wachadla typu B wynosi: \", typB(0.001))"
   ]
  },
  {
   "cell_type": "markdown",
   "id": "9ffd782c",
   "metadata": {},
   "source": [
    "$$ typB = \\frac{\\Delta x}{\\sqrt{3}}$$"
   ]
  },
  {
   "cell_type": "markdown",
   "id": "d17bbb2d",
   "metadata": {},
   "source": [
    "# Przyspieszenie ziemskie"
   ]
  },
  {
   "cell_type": "code",
   "execution_count": 12,
   "id": "429dcf5e",
   "metadata": {},
   "outputs": [
    {
     "data": {
      "text/plain": [
       "0     9.727769\n",
       "1     9.963015\n",
       "2     9.915288\n",
       "3    10.108281\n",
       "4     9.963015\n",
       "5    10.024886\n",
       "6     9.983575\n",
       "7     9.963015\n",
       "8     9.956175\n",
       "9     9.915288\n",
       "Name: g[m/s^2], dtype: float64"
      ]
     },
     "execution_count": 12,
     "metadata": {},
     "output_type": "execute_result"
    }
   ],
   "source": [
    "# przyspieszenie zemskie\n",
    "tab1['g[m/s^2]'] = Earth_acceleration(tab1)\n",
    "tab1['g[m/s^2]']"
   ]
  },
  {
   "cell_type": "code",
   "execution_count": 14,
   "id": "6c23a61e",
   "metadata": {},
   "outputs": [
    {
     "name": "stdout",
     "output_type": "stream",
     "text": [
      "9.9520305517101 [m/s^2]\n"
     ]
    }
   ],
   "source": [
    "# srednie przyspieszenie ziemskie\n",
    "g = np.mean(tab1['g[m/s^2]'])\n",
    "print(g, \"[m/s^2]\")"
   ]
  },
  {
   "cell_type": "markdown",
   "id": "a1bcd3e1",
   "metadata": {},
   "source": [
    "**Nasze srednie przyspieszenie ziemskie wyszlo bardzo realne po zamienieniu jednostek z mm/s^2 na m/s^2 (pomnozyc wynik przez 0.001) jest bliskie 9.81**"
   ]
  },
  {
   "cell_type": "markdown",
   "id": "c1c7c708",
   "metadata": {},
   "source": [
    "$$ g = \\frac{4\\pi^2l}{T^2}  $$"
   ]
  },
  {
   "cell_type": "markdown",
   "id": "c0ac8f2e",
   "metadata": {},
   "source": [
    "# Niepewnosc zlozona uc(g)"
   ]
  },
  {
   "cell_type": "code",
   "execution_count": 15,
   "id": "ea815c85",
   "metadata": {},
   "outputs": [],
   "source": [
    "delta_T = 0.01 # do milisekund 0.01"
   ]
  },
  {
   "cell_type": "code",
   "execution_count": 16,
   "id": "792907db",
   "metadata": {},
   "outputs": [
    {
     "name": "stdout",
     "output_type": "stream",
     "text": [
      "Niepewnosc zlozona u(g) wynosi:  0.02073086270527436\n"
     ]
    }
   ],
   "source": [
    "u_To = T_o / len(tab1['T[s]']) \n",
    "print(\"Niepewnosc zlozona u(g) wynosi: \", u_g(tab1))"
   ]
  },
  {
   "cell_type": "markdown",
   "id": "ba41e07f",
   "metadata": {},
   "source": [
    "$$u_{c}(g) = \\sqrt{[\\frac{4 \\pi^2}{T^2}u(l)]^2 + [-\\frac{8\\pi^2 l}{T^3}u(T)]^2}$$"
   ]
  },
  {
   "cell_type": "markdown",
   "id": "11802126",
   "metadata": {},
   "source": [
    "# Niepewnosc rozszerzona U(g)"
   ]
  },
  {
   "cell_type": "markdown",
   "id": "50f9ae32",
   "metadata": {},
   "source": [
    "**przyjmujemy k=2**"
   ]
  },
  {
   "cell_type": "code",
   "execution_count": 17,
   "id": "f4d4dab9",
   "metadata": {},
   "outputs": [
    {
     "name": "stdout",
     "output_type": "stream",
     "text": [
      "Niepewnosc rozszerzona U(g) wynosi:  0.04146172541054872\n"
     ]
    }
   ],
   "source": [
    "k = 2\n",
    "gra = k * u_g(tab1)\n",
    "print(\"Niepewnosc rozszerzona U(g) wynosi: \", k * u_g(tab1))"
   ]
  },
  {
   "cell_type": "markdown",
   "id": "9124ed40",
   "metadata": {},
   "source": [
    "$$ U(g) = u_{c}(g)*k$$"
   ]
  },
  {
   "cell_type": "markdown",
   "id": "516819db",
   "metadata": {},
   "source": [
    "# Sprawdzanie zgodnosci pomiarow"
   ]
  },
  {
   "cell_type": "code",
   "execution_count": 18,
   "id": "b4466545",
   "metadata": {},
   "outputs": [],
   "source": [
    "g_krk = 9.811 # m/s^2"
   ]
  },
  {
   "cell_type": "code",
   "execution_count": 19,
   "id": "94cba798",
   "metadata": {},
   "outputs": [
    {
     "data": {
      "text/plain": [
       "0.14103055171010048"
      ]
     },
     "execution_count": 19,
     "metadata": {},
     "output_type": "execute_result"
    }
   ],
   "source": [
    "g_roz = abs(g - g_krk)\n",
    "g_roz"
   ]
  },
  {
   "cell_type": "markdown",
   "id": "5473dea8",
   "metadata": {},
   "source": [
    "$$ |g - g_{0}|< granica \\space niepewnosci $$"
   ]
  },
  {
   "cell_type": "code",
   "execution_count": 20,
   "id": "00ed9b6e",
   "metadata": {},
   "outputs": [
    {
     "name": "stdout",
     "output_type": "stream",
     "text": [
      "False\n"
     ]
    }
   ],
   "source": [
    "print(g_roz < gra)"
   ]
  },
  {
   "cell_type": "markdown",
   "id": "e7824df6",
   "metadata": {},
   "source": [
    "**Uzyskana wartosc przyspieszenia ziemskiego nie jest zgodna z granicami niepewnosci rozszerzonej**"
   ]
  },
  {
   "cell_type": "markdown",
   "id": "ed3e98b6",
   "metadata": {},
   "source": [
    "**Nie uwzglednilem czasu reakcji co najprawdopodobniej sprawilo, ze wartosc przyspieszenia ziemskiego nie jest zgodna z granicami niepewnosci rozszerzonej**"
   ]
  },
  {
   "cell_type": "markdown",
   "id": "dc2f0f47",
   "metadata": {},
   "source": [
    "# Wykresy"
   ]
  },
  {
   "cell_type": "code",
   "execution_count": 21,
   "id": "70b174b3",
   "metadata": {},
   "outputs": [],
   "source": [
    "tab2['g[m/s^2]'] = tab2['g[m/s^2]']*0.001 # zamiana na m/s^2 z mm/s^2"
   ]
  },
  {
   "cell_type": "code",
   "execution_count": 22,
   "id": "c56b7195",
   "metadata": {},
   "outputs": [
    {
     "data": {
      "text/plain": [
       "0      396.27025\n",
       "1      623.31025\n",
       "2      807.30225\n",
       "3      966.28900\n",
       "4     1135.29025\n",
       "5     1380.62500\n",
       "6     1462.89025\n",
       "7     1682.20900\n",
       "8     1792.92100\n",
       "9     1898.88400\n",
       "10    1986.69025\n",
       "11    2079.36400\n",
       "12    2130.14025\n",
       "13    2184.48400\n",
       "14    2265.02500\n",
       "dtype: float64"
      ]
     },
     "execution_count": 22,
     "metadata": {},
     "output_type": "execute_result"
    }
   ],
   "source": [
    "T_2 = 4 * (math.pi ** 2) * tab2['l[mm]']/  tab2['g[m/s^2]']\n",
    "T_2"
   ]
  },
  {
   "cell_type": "code",
   "execution_count": 23,
   "id": "5f422566",
   "metadata": {},
   "outputs": [],
   "source": [
    "X = tab2[\"T^2 [s^2]\"].values\n",
    "Y = tab2[\"l[mm]\"].values"
   ]
  },
  {
   "cell_type": "code",
   "execution_count": 31,
   "id": "244c697a",
   "metadata": {},
   "outputs": [
    {
     "data": {
      "text/plain": [
       "Text(0, 0.5, 'l[m]')"
      ]
     },
     "execution_count": 31,
     "metadata": {},
     "output_type": "execute_result"
    },
    {
     "data": {
      "image/png": "[encoded data removed]",
      "text/plain": [
       "<Figure size 720x720 with 1 Axes>"
      ]
     },
     "metadata": {
      "needs_background": "light"
     },
     "output_type": "display_data"
    }
   ],
   "source": [
    "A = tab2[\"T[s]\"].values\n",
    "B = tab2[\"l[mm]\"].values\n",
    "plt.plot(A, B)\n",
    "plt.xlabel(\"T [s]\")\n",
    "plt.ylabel(\"l[m]\")"
   ]
  },
  {
   "cell_type": "code",
   "execution_count": 25,
   "id": "9f71f5dd",
   "metadata": {},
   "outputs": [],
   "source": [
    "plt.rcParams['figure.figsize'] = [10, 10]"
   ]
  },
  {
   "cell_type": "code",
   "execution_count": 26,
   "id": "4921f0a7",
   "metadata": {},
   "outputs": [
    {
     "data": {
      "text/plain": [
       "Text(0, 0.5, 'l[m]')"
      ]
     },
     "execution_count": 26,
     "metadata": {},
     "output_type": "execute_result"
    },
    {
     "data": {
      "image/png": "[encoded data removed]",
      "text/plain": [
       "<Figure size 720x720 with 1 Axes>"
      ]
     },
     "metadata": {
      "needs_background": "light"
     },
     "output_type": "display_data"
    }
   ],
   "source": [
    "plt.plot(X, Y)\n",
    "plt.xlabel(\"T^2 [s^2]\")\n",
    "plt.ylabel(\"l[m]\")"
   ]
  },
  {
   "cell_type": "code",
   "execution_count": 27,
   "id": "49153a2a",
   "metadata": {
    "scrolled": false
   },
   "outputs": [
    {
     "name": "stdout",
     "output_type": "stream",
     "text": [
      "Wykres zaleznosci l i T^2\n"
     ]
    },
    {
     "data": {
      "image/png": "[encoded data removed]",
      "text/plain": [
       "<Figure size 720x720 with 1 Axes>"
      ]
     },
     "metadata": {
      "needs_background": "light"
     },
     "output_type": "display_data"
    }
   ],
   "source": [
    "plt.scatter(X, Y, 70)\n",
    "m, b = np.polyfit(X, Y, 1)\n",
    "plt.plot(X, m*X + b)\n",
    "plt.xlabel(\"T^2 [s^2]\")\n",
    "plt.ylabel(\"l[m]\")\n",
    "print(\"Wykres zaleznosci l i T^2\")"
   ]
  },
  {
   "cell_type": "markdown",
   "id": "05e67e31",
   "metadata": {},
   "source": [
    "# Wspolczynnik nachylenia"
   ]
  },
  {
   "cell_type": "markdown",
   "id": "00f003d2",
   "metadata": {},
   "source": [
    "**Za pomoca formuly LINEST() w excel wyliczylem wspolczynnik a = 4.00434 i u(a) = 0.01862**"
   ]
  },
  {
   "cell_type": "code",
   "execution_count": 28,
   "id": "a7cefdda",
   "metadata": {},
   "outputs": [],
   "source": [
    "a = 4.00434\n",
    "u_a = 0.01862"
   ]
  },
  {
   "cell_type": "markdown",
   "id": "452bf50f",
   "metadata": {},
   "source": [
    "Z wzoru $$ a = \\frac{4 \\pi^2} {g} $$ wiliczamy g $$g = \\frac{4 \\pi^2} {a}$$"
   ]
  },
  {
   "cell_type": "code",
   "execution_count": 29,
   "id": "4c0152c1",
   "metadata": {},
   "outputs": [
    {
     "name": "stdout",
     "output_type": "stream",
     "text": [
      "Wartosc g wynosi:  9.9520305517101 m/s^2\n"
     ]
    }
   ],
   "source": [
    "g_ = (4 * math.pi**2) / a\n",
    "print(\"Wartosc g wynosi: \", g, \"m/s^2\")"
   ]
  },
  {
   "cell_type": "markdown",
   "id": "d07b139c",
   "metadata": {},
   "source": [
    "# Niepewnosc u(g)"
   ]
  },
  {
   "cell_type": "code",
   "execution_count": 30,
   "id": "b53a5cec",
   "metadata": {},
   "outputs": [
    {
     "name": "stdout",
     "output_type": "stream",
     "text": [
      "Ug =  0.09168694836003288\n"
     ]
    }
   ],
   "source": [
    "Ug = (8 * math.pi ** 2 * u_a) / a ** 2\n",
    "print(\"Ug = \", Ug)"
   ]
  },
  {
   "cell_type": "markdown",
   "id": "2fecf798",
   "metadata": {},
   "source": [
    "$$U(g) = \\frac{8 \\pi^2}{a^2} u_{a}$$"
   ]
  },
  {
   "cell_type": "markdown",
   "id": "4c3a9163",
   "metadata": {},
   "source": [
    "# Wnioski"
   ]
  },
  {
   "cell_type": "markdown",
   "id": "73475f45",
   "metadata": {},
   "source": [
    "Po analizie naszych wynikow mozemy zauwazyc, ze wykonane pomiary nie zostaly idealnie zmierzone i nie zostal uwzgledniony czas reakcji osoby robiacej pomiary.\n",
    "Wartosci przyspieszenia ziemskiego odbiegaja nieco od wartosci oczekiwanej natomiast nie sa zle.\n",
    "Wartoisc ziemskiego g wyniosla 9.95 m/s^2 co odbiega od wartosci krakowskiego przyspieszenia(9.81 m/s^2) o 1.44 %.\n",
    "Doswiadczenie pokazuje nam, ze za pomoca wachadla matematycznego mozemy mierzyc przyspieszenie ziemskie z calkiem niezlym rezultatem."
   ]
  },
  {
   "cell_type": "code",
   "execution_count": 1,
   "id": "a4e0e8e2",
   "metadata": {},
   "outputs": [],
   "source": [
    "# Niepewnosc pomiaru okresu typu A\n",
    "def typA(df):\n",
    "    S = np.std((df['T[s]']/ len(df['T[s]'])))\n",
    "    return S\n",
    "\n",
    "# Niepewnosc pomiaru dlugosci wachadla typu B\n",
    "def typB(delta_l = 1):\n",
    "    u_t = delta_l/np.sqrt(3)\n",
    "    return u_t\n",
    "\n",
    "# Przyspieszenie ziemskie\n",
    "def Earth_acceleration(df, l = 0.535):\n",
    "    result = np.array([])\n",
    "    # l = np.array(df['l[mm]'])\n",
    "    T = np.array(df['T[s]'])\n",
    "    g = (l / ((T/ (2 * math.pi))**2))\n",
    "    return g\n",
    "\n",
    "# Niepewnosc pomiaru okresu typu B\n",
    "def u_t(delta_T = 0.01):\n",
    "    u_t =  delta_T / np.sqrt(3)\n",
    "    return u_t\n",
    "\n",
    "# Niepewnosc zlozona u(g)\n",
    "def u_g(df):\n",
    "    g_l = ((4 * math.pi ** 2 * 0.001) / (1.456850 ** 2)) **2\n",
    "    g_t = ((-8 * (math.pi ** 2) * 0.535 * 0.00067)/ 1.456850 ** 3)**2\n",
    "    result = math.sqrt(g_l + g_t)\n",
    "    return result\n",
    "    \n",
    "    \n",
    "# Niepewnosc zlozona u(g)\n",
    "\n",
    "def niep_u_g(df):\n",
    "    lista = []\n",
    "    for T in np.array(df['T[s]']):\n",
    "        x = (-8 * (math.pi ** 2))"
   ]
  },
  {
   "cell_type": "markdown",
   "id": "91e4d4cd",
   "metadata": {},
   "source": [
    "Szymon Cogiel Geoinformatyka"
   ]
  }
 ],
 "metadata": {
  "kernelspec": {
   "display_name": "Python 3 (ipykernel)",
   "language": "python",
   "name": "python3"
  },
  "language_info": {
   "codemirror_mode": {
    "name": "ipython",
    "version": 3
   },
   "file_extension": ".py",
   "mimetype": "text/x-python",
   "name": "python",
   "nbconvert_exporter": "python",
   "pygments_lexer": "ipython3",
   "version": "3.8.8"
  }
 },
 "nbformat": 4,
 "nbformat_minor": 5
}
